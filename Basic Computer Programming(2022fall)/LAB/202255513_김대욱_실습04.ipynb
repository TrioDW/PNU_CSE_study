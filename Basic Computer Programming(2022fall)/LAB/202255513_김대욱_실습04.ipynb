{
  "nbformat": 4,
  "nbformat_minor": 0,
  "metadata": {
    "colab": {
      "provenance": [],
      "collapsed_sections": []
    },
    "kernelspec": {
      "name": "python3",
      "display_name": "Python 3"
    },
    "language_info": {
      "name": "python"
    }
  },
  "cells": [
    {
      "cell_type": "markdown",
      "source": [
        "# **해결문제**\n",
        "---\n",
        "\n",
        "코로나(corona)는 라틴말로 왕관을 뜻하며 통상 태양을 둘러싼 외곽의 빛(광환)을 지칭한다. 코로나바이러스라는 이름은 전자현미경으로 이 바이러스를 관찰했을 때 마치 코로나와 유사한 모양을 띠어 붙여진 이름이다. 이번에 중국의 우환에서 시작된 코로나바이러스는 2019년에 발견된 새로운 코로나바이러스라는 뜻으로 2019-nCoV로 붙여졌다. nCoV는 novel(새로운) CoV(코로나바이러스)라는 뜻이다. \n",
        "+ 찾고자 하는 단어를 입력 받아서 해당 단어가 몇 번 언급되었는지 확인해 보세요"
      ],
      "metadata": {
        "id": "UslAssg7UOKr"
      }
    },
    {
      "cell_type": "code",
      "source": [
        "cov = '''코로나(corona)는 라틴말로 왕관을 뜻하며 통상 태양을 둘러싼 외곽의 빛(광환)을 지칭한다. \n",
        "코로나바이러스라는 이름은 전자현미경으로 이 바이러스를 관찰했을 때 마치 코로나와 유사한 모양을 띠어 붙여진 이름이다. \n",
        "이번에 중국의 우환에서 시작된 코로나바이러스는 2019년에 발견된 새로운 코로나바이러스라는 뜻으로 2019-nCoV로 붙여졌다. \n",
        "nCoV는 novel(새로운) CoV(코로나바이러스)라는 뜻이다.'''"
      ],
      "metadata": {
        "id": "HjVWecZrUPSR"
      },
      "execution_count": 3,
      "outputs": []
    },
    {
      "cell_type": "code",
      "source": [
        "cov[0:3]"
      ],
      "metadata": {
        "colab": {
          "base_uri": "https://localhost:8080/",
          "height": 35
        },
        "id": "ChYDbezI-R4c",
        "outputId": "b7b5d911-56ce-404b-c3f2-4157f8a1b1d1"
      },
      "execution_count": 4,
      "outputs": [
        {
          "output_type": "execute_result",
          "data": {
            "text/plain": [
              "'코로나'"
            ],
            "application/vnd.google.colaboratory.intrinsic+json": {
              "type": "string"
            }
          },
          "metadata": {},
          "execution_count": 4
        }
      ]
    },
    {
      "cell_type": "code",
      "source": [
        "# 표준입력\n",
        "w = input('단어를 입력하세요: ')\n",
        "\n",
        "print(f\"{cov}에는 {w}이/가 {cov.count(w)}번 나옵니다.\")"
      ],
      "metadata": {
        "colab": {
          "base_uri": "https://localhost:8080/"
        },
        "id": "66VwN8uG-lPF",
        "outputId": "2ac5c91d-985f-47c6-8185-ac379c58abbe"
      },
      "execution_count": 10,
      "outputs": [
        {
          "output_type": "stream",
          "name": "stdout",
          "text": [
            "단어를 입력하세요: CoV\n",
            "코로나(corona)는 라틴말로 왕관을 뜻하며 통상 태양을 둘러싼 외곽의 빛(광환)을 지칭한다. \n",
            "코로나바이러스라는 이름은 전자현미경으로 이 바이러스를 관찰했을 때 마치 코로나와 유사한 모양을 띠어 붙여진 이름이다. \n",
            "이번에 중국의 우환에서 시작된 코로나바이러스는 2019년에 발견된 새로운 코로나바이러스라는 뜻으로 2019-nCoV로 붙여졌다. \n",
            "nCoV는 novel(새로운) CoV(코로나바이러스)라는 뜻이다.에는 CoV이/가 3번 나옵니다.\n"
          ]
        }
      ]
    },
    {
      "cell_type": "markdown",
      "metadata": {
        "id": "6LbuZ9B86u2j"
      },
      "source": [
        "# 해결문제\n",
        "문자열을 입력받아서 문자열에 포함된 숫자들의 합계를 구하시오.\n",
        "\n",
        "&#9997; **Note: Python 숫자판별 함수**\n",
        "\n",
        "\n",
        "---\n",
        "\n",
        "+ isdigit() : 해당 문자열이 '숫자'로 이루어져 있는지 검사\n",
        "+ isdecimal() : 문자열이 0~9까지의 수로 이루어진 것인지 검사( int로 바로 변환할 수 있는 수인지를 검사)\n",
        "+ isnumeric() : 수로 볼 수 있는 것인 검사"
      ]
    },
    {
      "cell_type": "code",
      "metadata": {
        "id": "PYyOuf5L9VZV",
        "colab": {
          "base_uri": "https://localhost:8080/"
        },
        "outputId": "b7683f7b-dfb7-4293-cd7d-c86c479029e9"
      },
      "source": [
        "#문자열 입력 \n",
        "s = input('문자열을 입력하세요: ') \n",
        "\n",
        "print(s)"
      ],
      "execution_count": 18,
      "outputs": [
        {
          "output_type": "stream",
          "name": "stdout",
          "text": [
            "문자열을 입력하세요: 1234567890123\n",
            "1234567890123\n"
          ]
        }
      ]
    },
    {
      "cell_type": "markdown",
      "source": [
        "## 반복문\n",
        "+ **for문** : 컬렉션으로부터 하나씩 요소(element)를 가져와, 루프 내의 문장들을 실행\n",
        "```python\n",
        "for 변수 in 컬렉션:\n",
        "    명령문\n",
        "    명령문\n",
        "    ...\n",
        "```\n",
        "\n",
        " + **range() 함수**\n",
        "```python\n",
        "range(시작숫자, 종료숫자, step)\n",
        "```\n",
        "    + 결과는 시작숫자부터 종료숫자 바로 앞 숫자까지 컬렉션 생성\n",
        "    + 값을 확인하기 위해서는 순서가 있는 리스트나 튜플 컬렉션으로 변환해야 함\n",
        "    + 시작숫자를 생략하면 0부터 생성\n",
        "    + step을 생략하면 1씩 증가\n",
        "\n",
        "  + **in** 연산자, **not in** 연산자\n",
        "    + 멤버십 연산자로 컬렉션에 속한 멤버를 확인하기 위한 연산자\n",
        "\n",
        "+ **while문** : while 키워드 다음의 조건식이 참일 경우 계속 while 안의 블럭을 실행\n",
        "```python\n",
        "while 조건식:\n",
        "    명령문\n",
        "    명령문\n",
        "    ...\n",
        "```\n",
        "+ **break 문**\n",
        "  + 반복문 안에서 루프를 빠져나오기 위해 을 사용\n",
        "\n",
        "+ **continue문**\n",
        "  + 루프 블럭의 나머지 문장들을 실행하지 않고 다음 루프로 직접 돌아가게 함 "
      ],
      "metadata": {
        "id": "bnx9tbZ8WWG4"
      }
    },
    {
      "cell_type": "code",
      "metadata": {
        "id": "s7B7EVt3_h4a",
        "colab": {
          "base_uri": "https://localhost:8080/"
        },
        "outputId": "e046a2ce-4098-4279-f381-f12918138cab"
      },
      "source": [
        "#문자열의 첫문자에서 마지막문자까지 \n",
        "for i in s :\n",
        "  print(i)"
      ],
      "execution_count": 26,
      "outputs": [
        {
          "output_type": "stream",
          "name": "stdout",
          "text": [
            "1\n",
            "2\n",
            "3\n",
            "4\n",
            "5\n",
            "6\n",
            "7\n",
            "8\n",
            "9\n",
            "0\n",
            "1\n",
            "2\n",
            "3\n"
          ]
        }
      ]
    },
    {
      "cell_type": "code",
      "source": [
        "#숫자 목록 만들기\n",
        "#range(인수1) : 0에서 인수1 전까지\n",
        "range(len(s))"
      ],
      "metadata": {
        "colab": {
          "base_uri": "https://localhost:8080/"
        },
        "id": "NqzJnKmZCAKw",
        "outputId": "edcd0e6d-6b74-4890-a56e-3e0ec6eda98c"
      },
      "execution_count": 20,
      "outputs": [
        {
          "output_type": "execute_result",
          "data": {
            "text/plain": [
              "range(0, 13)"
            ]
          },
          "metadata": {},
          "execution_count": 20
        }
      ]
    },
    {
      "cell_type": "code",
      "source": [
        "#range(인수1, 인수2) : 인수1에서 인수2 전까지\n",
        "\n",
        "list(range(4,len(s)))"
      ],
      "metadata": {
        "colab": {
          "base_uri": "https://localhost:8080/"
        },
        "id": "szZL-o-EClNf",
        "outputId": "9d2e4d3f-2d5c-45f2-aa43-217cb9748be7"
      },
      "execution_count": 21,
      "outputs": [
        {
          "output_type": "execute_result",
          "data": {
            "text/plain": [
              "[4, 5, 6, 7, 8, 9, 10, 11, 12]"
            ]
          },
          "metadata": {},
          "execution_count": 21
        }
      ]
    },
    {
      "cell_type": "code",
      "source": [
        "#range(인수1, 인수2, 인수3) : 인수1에서 인수2 전까지 인수3 간격으로\n",
        "list(range(4,len(s),2))"
      ],
      "metadata": {
        "colab": {
          "base_uri": "https://localhost:8080/"
        },
        "id": "a-sDKxwoCrjD",
        "outputId": "4ca0c86e-e284-44db-d6a1-4cc8b618b740"
      },
      "execution_count": 22,
      "outputs": [
        {
          "output_type": "execute_result",
          "data": {
            "text/plain": [
              "[4, 6, 8, 10, 12]"
            ]
          },
          "metadata": {},
          "execution_count": 22
        }
      ]
    },
    {
      "cell_type": "markdown",
      "source": [
        "## 조건문\n",
        "프로그램의 실행 흐름을 바꾸고자 할 때 사용하는 제어문\n",
        " - 사용자가 지정한 조건에 따라 실행할 문장을 결정함\n",
        "```python\n",
        "if (조건식) : \n",
        "  명령문\n",
        "elif (조건식) :\n",
        "  명령문\n",
        "else :\n",
        "  명령문\n",
        "```\n",
        "\n",
        "- if 조건문 뒤에는 반드시 콜론(:)\n",
        "- 바로 아래 문장부터 **if문에 속하는 모든 문장에 들여쓰기(indentation)**를 해야 함\n",
        "- 파이썬에는 다른 언어에 있는 switch 문이 존재하지 않음 : if...elif...elif... 문으로 수행\n",
        "- pass  : def 문이나 if 문처럼 코드 블록을 본문으로 갖는 표현에서 본문을 비워 둘 때 사용"
      ],
      "metadata": {
        "id": "egNELid0WYhq"
      }
    },
    {
      "cell_type": "code",
      "source": [
        "#문자가 숫자인지 판별   \n",
        "#문자열의 첫문자에서 마지막 문자까지\n",
        "\n",
        "total = 0 # 누적합 구하기\n",
        "\n",
        "for i in s:\n",
        "  if i.isdecimal() : # 문자가 숫자로 이루어졌는지 확인\n",
        "    total += int(i)  # 문자를 숫자로 바꾸어서 누적합\n",
        "    print(f'{i} => {total}')\n",
        "\n",
        "# 출력결과\n",
        "print(f'{s}에서 숫자의 합은 {total}입니다.')"
      ],
      "metadata": {
        "id": "S6i2QmmL5l29",
        "colab": {
          "base_uri": "https://localhost:8080/"
        },
        "outputId": "20b234c2-0f54-4446-ee8b-59b28e1c0f7a"
      },
      "execution_count": 31,
      "outputs": [
        {
          "output_type": "stream",
          "name": "stdout",
          "text": [
            "1 => 1\n",
            "2 => 3\n",
            "3 => 6\n",
            "4 => 10\n",
            "5 => 15\n",
            "6 => 21\n",
            "7 => 28\n",
            "8 => 36\n",
            "9 => 45\n",
            "0 => 45\n",
            "1 => 46\n",
            "2 => 48\n",
            "3 => 51\n",
            "1234567890123에서 숫자의 합은 51입니다.\n"
          ]
        }
      ]
    },
    {
      "cell_type": "markdown",
      "metadata": {
        "id": "zn0xkpVp8DdB"
      },
      "source": [
        "# **실습과제**\n",
        "**리히터 규모에 따른 피해 정도 출력하기**\n",
        "\n",
        "리히터 규모는 1935년 미국 지질학자인 찰스 리히터 (C. Richter)가 지진의 규모를 비교할 수 있도록 제안한 단위이며 “리히터 스케일(Richter scale)”이라고도 한다. 다음 그림은 리히터 규모에 따른 사람의 느낌이나 사물의 피해 정도를 나타낸다. 사용자로부터 지진의 리히터 규모를 입력 받아서 그 영향을 출력하는 프로그램을 작성해 보자.\n",
        "\n",
        "![실습과제4](https://drive.google.com/uc?export=view&id=1sX-hFH5CRqB5MIt2am686Ybpho9nmNOw)"
      ]
    },
    {
      "cell_type": "code",
      "source": [],
      "metadata": {
        "id": "CMrwnCOGWrbk"
      },
      "execution_count": null,
      "outputs": []
    }
  ]
}