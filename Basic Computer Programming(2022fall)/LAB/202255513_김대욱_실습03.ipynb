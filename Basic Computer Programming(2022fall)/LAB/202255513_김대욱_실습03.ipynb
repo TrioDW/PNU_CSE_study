{
  "nbformat": 4,
  "nbformat_minor": 0,
  "metadata": {
    "colab": {
      "provenance": []
    },
    "kernelspec": {
      "name": "python3",
      "display_name": "Python 3"
    },
    "language_info": {
      "name": "python"
    }
  },
  "cells": [
    {
      "cell_type": "markdown",
      "source": [
        "# 변수(Variable)\n",
        "* 필요한 **데이터를 저장해 놓는 기억 공간**의 별칭\n",
        "* 변수 명 규칙\n",
        "  + 영문 문자와 숫자 사용 : **대소문자 구분**\n",
        "  + 문자나 _(밑줄 문자)로 시작 : ***숫자부터 시작하면 안 됨***\n",
        "  + 특수 문자(+, -, *, /, $, @, &, % 등)는 사용할 수 없음\n",
        "  + python 키워드(if, for, while, and, or 등)는 사용할 수 없음"
      ],
      "metadata": {
        "id": "Ks9jMWv1McE8"
      }
    },
    {
      "cell_type": "code",
      "source": [
        "#표준입력 : 키보드 입력\n",
        "r = input('반지름을 입력하세요.\\n')"
      ],
      "metadata": {
        "id": "N9uT4ZywQIJs",
        "colab": {
          "base_uri": "https://localhost:8080/"
        },
        "outputId": "6c9f137f-ebd9-41b0-edbf-055bc16a2079"
      },
      "execution_count": 7,
      "outputs": [
        {
          "name": "stdout",
          "output_type": "stream",
          "text": [
            "반지름을 입력하세요.\n",
            "5\n"
          ]
        }
      ]
    },
    {
      "cell_type": "markdown",
      "source": [
        "# 데이터 타입(Data Type)\n",
        "* 정수 : 정수 자료형(int)\n",
        "* 실수 : 부동소수점 자료형(float)\n",
        "  + **부동소수점 반올림 오차(rounding error)** : 부동소수점으로 실수를 표현하면, 소숫점 이하가 무한히 반복되기 때문에 일정 시점에 반올림하여 근사값을 사용함으로 실제 값과 근사값에서 발생하는 오차\n",
        "  ```python\n",
        "     0.1 * 3\n",
        "     => 0.30000000000000004\n",
        "  ```\n",
        "* 참거짓 : 참(True)과 거짓(False)를 나타내는 부울 자료형(bool)\n",
        "* 문자열 : 문자열 자료형(str), 작은따옴표('')나 큰따옴표(\"\")로 묶음\n"
      ],
      "metadata": {
        "id": "rmZlwsvzMlZj"
      }
    },
    {
      "cell_type": "code",
      "source": [
        "# 표준 출력 : 모니터(화면) 출력\n",
        "print('반지름 :', r, '데이터 타입 :', type(r))\n",
        "\n",
        "# 형변환 : 문자열 -> 상수\n",
        "r = int(r)\n",
        "\n",
        "# f-string으로 출력\n",
        "print(f\"반지름이 {r}인 원의 면적은 {r*r*3.14}이고, 둘레는 {r*2*3.14:.2f}이다.\")"
      ],
      "metadata": {
        "id": "KADiraPYOOjx",
        "colab": {
          "base_uri": "https://localhost:8080/"
        },
        "outputId": "8c3abea6-014b-4096-cb69-ac911dd0cce6"
      },
      "execution_count": 17,
      "outputs": [
        {
          "output_type": "stream",
          "name": "stdout",
          "text": [
            "반지름 : 5 데이터 타입 : <class 'int'>\n",
            "반지름이 5인 원의 면적은 78.5이고, 둘레는 31.40이다.\n"
          ]
        }
      ]
    },
    {
      "cell_type": "markdown",
      "source": [
        "\n",
        "## 데이터 타입 확인 \n",
        "* type() 함수 \n"
      ],
      "metadata": {
        "id": "tzSDToe4MnFL"
      }
    },
    {
      "cell_type": "code",
      "source": [],
      "metadata": {
        "id": "lPZeqpF1OUJq"
      },
      "execution_count": null,
      "outputs": []
    },
    {
      "cell_type": "markdown",
      "source": [
        "\n",
        "## 형변환(type Casting)\n",
        "* int() : 실수나 문자열을 정수로 변환\n",
        "* float() : 정수나 문자열을 실수로 변환\n",
        "* str() : 정수나 실수를 문자열로 변환"
      ],
      "metadata": {
        "id": "6sAPbXnMMpBa"
      }
    },
    {
      "cell_type": "code",
      "execution_count": 18,
      "metadata": {
        "id": "OCNI_eWbMS6S",
        "colab": {
          "base_uri": "https://localhost:8080/"
        },
        "outputId": "ea66d634-e08c-40c4-d404-a2068ca9ae99"
      },
      "outputs": [
        {
          "output_type": "stream",
          "name": "stdout",
          "text": [
            "반지름 : 5 데이터 타입 : <class 'int'>\n",
            "반지름 입력: 56\n",
            "반지름이 56인 원의 면적은 9847.04이고, 둘레는 351.68이다.\n"
          ]
        }
      ],
      "source": [
        "# 표준 출력 : 모니터(화면) 출력\n",
        "print('반지름 :', r, '데이터 타입 :', type(r))\n",
        "\n",
        "# 형변환 : 문자열 -> 상수\n",
        "r = int(input(\"반지름 입력: \"))\n",
        "\n",
        "# f-string으로 출력\n",
        "print(f\"반지름이 {r}인 원의 면적은 {r*r*3.14}이고, 둘레는 {r*2*3.14:.2f}이다.\")"
      ]
    },
    {
      "cell_type": "markdown",
      "source": [
        "# 연산자\n",
        "자료를 처리하기 위한 수식들을 결합하여 연산 동작을 수행하도록 하는 기호\n",
        "+ **산술연산자**\n",
        " - 수학적 계산을 수행할 때 사용하는 연산자\n",
        " - 사칙연산자(+, -, \\*, /), <u>제곱(\\**), 나머지(%), 나누기 결과 정수(//)</u>\n",
        "+ **비교연산자(관계연산자)**\n",
        " - 비교할 때 사용하는 연산자\n",
        " - 등호(==), 같지 않음(!=), 부등호(<, >, <=, >=)\n",
        "+ **논리연산자**\n",
        " - 주어진 논리식을 판단하여, 참(true)과 거짓(false)을 결정하는 연산자\n",
        " - and(논리곱), or(논리합), not \n",
        "+ **할당연산자**\n",
        " - 변수에 값을 할당하기 위하여 사용하는 연산자\n",
        " - = (Equal Sign)\n",
        " - +=, -=, *=, /=, %=, //= : 산술연산자와 함께 사용되어 할당을 보다 간결히 하기 위해 사용 "
      ],
      "metadata": {
        "id": "ZX8qFxyLPOts"
      }
    },
    {
      "cell_type": "code",
      "source": [],
      "metadata": {
        "id": "p4ba5PPZPfdc"
      },
      "execution_count": null,
      "outputs": []
    },
    {
      "cell_type": "markdown",
      "source": [
        "# **문자열**\n",
        "+ 문자들의 집합\n",
        "+ 문자열 연산\n",
        "  + 문자열 더하기(+)\n",
        "  + 문자열 곱하기(*)\n",
        "+ 문자열 인덱싱\n",
        " -  문자열의 각 문자는 0부터 시작되는 인덱스를 가짐\n",
        " - [인덱스]를 이용하여 인덱스위치의 문자 추출 :  처음위치 [0], 마지막위치 [-1]\n",
        "+ 문자열 슬라이싱 \n",
        " - [인덱스1:인덱스2]: 인덱스1 위치에서 인덱스2 -1 위치까지 잘라냄\n",
        " - [인덱스1:] : 인덱스1 위치에서 끝까지 잘라냄\n",
        " - [: 인덱스2] : 처음부터 인덱스2 -1 위치까지 잘라냄"
      ],
      "metadata": {
        "id": "uc3TksiTPoKS"
      }
    },
    {
      "cell_type": "code",
      "source": [
        "s = 'Hello Python! pnu'\n",
        "print(f\"데이터 타입: {type(s)}\")\n",
        "print(f\"첫글자: {s[0]}\")\n",
        "print(f\"마지막 글자: {s[-1]}\")\n",
        "print(f\"일부분 추출: {s[6:8]}\")\n",
        "print(f\"처음부터 5글자: {s[:5]}\")\n",
        "print(f\"끝에서 5글자: {s[-5:]}\")"
      ],
      "metadata": {
        "id": "y06eImASPqFb",
        "colab": {
          "base_uri": "https://localhost:8080/"
        },
        "outputId": "fb5af311-60b6-419d-f5ed-fa5d292b00a3"
      },
      "execution_count": 26,
      "outputs": [
        {
          "output_type": "stream",
          "name": "stdout",
          "text": [
            "데이터 타입: <class 'str'>\n",
            "첫글자: H\n",
            "마지막 글자: u\n",
            "일부분 추출: Py\n",
            "처음부터 5글자: Hello\n",
            "끝에서 5글자: ! pnu\n"
          ]
        }
      ]
    },
    {
      "cell_type": "markdown",
      "source": [
        "### **문자열 함수**\n",
        "+ **len()** : 문자열 길이 구하기\n",
        "+ **count()** : 문자의 개수 구하기\n",
        "+ **find()** : 문자가 처음 나오는 위치 반환 , 없으면 -1\n",
        "+ **index()** : 문자가 처음 나오는 위치 반환, 없으면 오류\n",
        "+ **join()** : 문자열 사이에 문자 삽입, 삽입문자’.join(문자열)\n",
        "+ **upper()** :소문자를 대문자로 변환\n",
        "+ **lower()** : 대문자를 소문자로 변환\n",
        "+ **replace()** : 문자열 바꾸기\n",
        "+ **replace(원본, 변환문자)**\n",
        "+ **split()** : 문자열 나누기\n",
        " - 인수가 없으면 공백(스페이스, 탭, 엔터 등)을 기준\n"
      ],
      "metadata": {
        "id": "5nVz6cJjPxpf"
      }
    },
    {
      "cell_type": "code",
      "source": [
        "print(f\"문자열의 길이 : {len(s)}\")\n",
        "print(f\"문자열 개수 : {s.count('Py')}\")\n",
        "print(f\"문자열 인덱스 찾기 : {s.find('Py')}\")  # 없으면 -1 출력\n",
        "print(f\"문자열 인덱스 찾기 : {s.index('Py')}\")  # 없으면, error\n",
        "\n",
        "print(f\"대문자 변환 : {s.upper()}\")\n",
        "print(f\"소문자 변환 : {s.lower()}\")"
      ],
      "metadata": {
        "id": "1yGNN_ymP5RU",
        "colab": {
          "base_uri": "https://localhost:8080/"
        },
        "outputId": "a83f0abe-300d-44b4-e77b-0dc19660d166"
      },
      "execution_count": 33,
      "outputs": [
        {
          "output_type": "stream",
          "name": "stdout",
          "text": [
            "문자열의 길이 : 17\n",
            "문자열 개수 : 1\n",
            "문자열 인덱스 찾기 : 6\n",
            "문자열 인덱스 찾기 : 6\n",
            "대문자 변환 : HELLO PYTHON! PNU\n",
            "소문자 변환 : hello python! pnu\n"
          ]
        }
      ]
    },
    {
      "cell_type": "markdown",
      "source": [
        "# **실습과제**\n",
        "---\n",
        "\n",
        "코로나(corona)는 라틴말로 왕관을 뜻하며 통상 태양을 둘러싼 외곽의 빛(광환)을 지칭한다. 코로나바이러스라는 이름은 전자현미경으로 이 바이러스를 관찰했을 때 마치 코로나와 유사한 모양을 띠어 붙여진 이름이다. 이번에 중국의 우환에서 시작된 코로나바이러스는 2019년에 발견된 새로운 코로나바이러스라는 뜻으로 2019-nCoV로 붙여졌다. nCoV는 novel(새로운) CoV(코로나바이러스)라는 뜻이다. \n",
        "+ 찾고자 하는 단어를 입력 받아서 해당 단어가 몇 번 언급되었는지 확인해 보세요."
      ],
      "metadata": {
        "id": "0NNZW7fGP6At"
      }
    },
    {
      "cell_type": "code",
      "source": [
        "\n"
      ],
      "metadata": {
        "id": "YLo-BLfGP_hY"
      },
      "execution_count": null,
      "outputs": []
    }
  ]
}