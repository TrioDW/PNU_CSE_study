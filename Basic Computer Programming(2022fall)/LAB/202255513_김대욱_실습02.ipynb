{
  "nbformat": 4,
  "nbformat_minor": 0,
  "metadata": {
    "colab": {
      "provenance": [],
      "collapsed_sections": []
    },
    "kernelspec": {
      "name": "python3",
      "display_name": "Python 3"
    },
    "language_info": {
      "name": "python"
    }
  },
  "cells": [
    {
      "cell_type": "markdown",
      "metadata": {
        "id": "GQ1ZzC_9VHWA"
      },
      "source": [
        "# **기초 컴퓨터 프로그래밍**"
      ]
    },
    {
      "cell_type": "markdown",
      "metadata": {
        "id": "njfK-CCSVM2-"
      },
      "source": [
        "## 파이썬 (Python)\n",
        "\n"
      ]
    },
    {
      "cell_type": "markdown",
      "metadata": {
        "id": "DP4PDM6ghcIx"
      },
      "source": [
        "### 파이썬 개발 환경\n",
        "![파이썬 개발 환경](https://drive.google.com/uc?export=view&id=1HMMji73USeCRJMbPsSRHbBW0A9vsMmIr)"
      ]
    },
    {
      "cell_type": "markdown",
      "metadata": {
        "id": "50aewi0Ph7mY"
      },
      "source": [
        "### 셀(Cell)\n",
        "![셀](https://drive.google.com/uc?export=view&id=1_SUoGflE-ynW8nNpgKApqQ9kvVqL0Rqf)\n",
        "\n",
        "\n",
        "+ 텍스트 셀\n",
        "   + 마크업 언어인 Markdown으로 작성\n",
        "   + 서식이 지정된 텍스트, 이미지, HTML, LaTeX 등을 포함 \n",
        "+ 코드 셀   \n",
        "   + Python 작성 \n",
        "   + 시스템/터미널 명령을 삽입가능(라인 앞에 !를 붙임)\n",
        "+ 코드 출력셀\n",
        "   + 해당 셀 아래 코드 실행 결과\n",
        "   + 코드를 실행하는 동안 발생한 오류에 대한 텍스트, 그래픽 및 정보가 포함"
      ]
    },
    {
      "cell_type": "markdown",
      "metadata": {
        "id": "G-2cd68cVYhM"
      },
      "source": [
        "### 파이썬 출력\n",
        "```python\n",
        "print(출력문자열)\n",
        "```"
      ]
    },
    {
      "cell_type": "code",
      "metadata": {
        "colab": {
          "base_uri": "https://localhost:8080/"
        },
        "id": "M9TVTtKsPciI",
        "outputId": "60ad7b28-5f3b-4585-dd77-96eeb6d525a7"
      },
      "source": [
        "print('Hello Python!!')"
      ],
      "execution_count": null,
      "outputs": [
        {
          "output_type": "stream",
          "name": "stdout",
          "text": [
            "Hello Python!!\n"
          ]
        }
      ]
    },
    {
      "cell_type": "markdown",
      "metadata": {
        "id": "W2eo6C8_VjCg"
      },
      "source": [
        "## 마크다운 문법\n",
        "\n",
        "+ https://colab.research.google.com/notebooks/markdown_guide.ipynb"
      ]
    },
    {
      "cell_type": "markdown",
      "source": [
        "## 정보컴퓨터공학부\n",
        "+ 202255513\n",
        "  + 김대욱"
      ],
      "metadata": {
        "id": "WVBXkMiA8Wrr"
      }
    },
    {
      "cell_type": "code",
      "source": [
        "# 주석 : 표준 출력\n",
        "\n",
        "print(\"정보컴퓨터공학부\")\n",
        "print(\"202255513\")\n",
        "print(\"김대욱\")"
      ],
      "metadata": {
        "id": "LDWCHtRc3ZEG",
        "colab": {
          "base_uri": "https://localhost:8080/"
        },
        "outputId": "33582e27-7599-4ba9-fc77-a55d45fc60f0"
      },
      "execution_count": 4,
      "outputs": [
        {
          "output_type": "stream",
          "name": "stdout",
          "text": [
            "정보컴퓨터공학부\n",
            "202255513\n",
            "김대욱\n"
          ]
        }
      ]
    },
    {
      "cell_type": "markdown",
      "source": [
        "# 해결문제\n",
        "---\n",
        "부산대학교 앞에서 분식가게를 시작하였다. \n",
        "\n",
        "메뉴는 떡볶이와 라면, 튀김이다. \n",
        "\n",
        "매일 저녁 가게를 마치면서 정산을 한다. \n",
        "\n",
        "이때 각 메뉴별 매출과 총 매출을 정리하여 아래와 같이 출력해주는 프로그램을 만들어보자.\n",
        "\n",
        "\n",
        "---\n",
        "\n",
        "* 단가\n",
        "  * 떡볶이 : 2000\n",
        "  * 라면 : 3000\n",
        "  * 튀김 : 500\n",
        "\n",
        "* 매출 결과\n",
        "\n",
        "```\n",
        "-----<오늘의 매출 정산>------\n",
        "떡볶이의 매출: 86000원\n",
        "라면의 매출: 186000원\n",
        "튀김의 매출: 44500원\n",
        "오늘의 총 매출은 316500원입니다.\n",
        "```\n"
      ],
      "metadata": {
        "id": "wIp5U4uurOdY"
      }
    },
    {
      "cell_type": "code",
      "source": [
        "# 입력 : 표준 입력 input() => 키보드를 통해 입력 => 기본적으로 문자열 입력 / 43, 62, 89 \n",
        "# 숫자 입력을 위해서는 수치 자료로 변환 => int()\n",
        "\n",
        "떡볶이 = 2000\n",
        "라면 = 3000\n",
        "튀김 = 500\n",
        "\n",
        "# 입력\n",
        "\n",
        "x1 = int(input(\"떡볶이 판매량: \"))\n",
        "x2 = int(input(\"라면 판매량: \"))\n",
        "x3 = int(input(\"튀김 판매량: \"))\n",
        "\n",
        "print(\"\\n\")\n",
        "\n",
        "# 매출액 계산\n",
        "\n",
        "떡볶이_매출 = 떡볶이 * x1\n",
        "라면_매출 = 라면 * x2\n",
        "튀김_매출 = 튀김 * x3\n",
        "\n",
        "# 출력\n",
        "\n",
        "print(\"-----<오늘의 매출 정산>-----\")\n",
        "print(f\"떡볶이의 매출: {떡볶이_매출}원\")\n",
        "print(f\"라면의 매출: {라면_매출}원\")\n",
        "print(f\"튀김의 매출: {튀김_매출}원\")\n",
        "\n",
        "print(f\"오늘의 총 매출은 {떡볶이_매출 + 라면_매출 + 튀김_매출}원입니다.\")\n"
      ],
      "metadata": {
        "id": "pCD9g4nWrUNA",
        "colab": {
          "base_uri": "https://localhost:8080/"
        },
        "outputId": "eb8406ec-f75f-4603-cdbf-bbcaf571d113"
      },
      "execution_count": 11,
      "outputs": [
        {
          "output_type": "stream",
          "name": "stdout",
          "text": [
            "떡볶이 판매량: 43\n",
            "라면 판매량: 62\n",
            "튀김 판매량: 89\n",
            "\n",
            "\n",
            "-----<오늘의 매출 정산>-----\n",
            "떡볶이의 매출: 86000원\n",
            "라면의 매출: 186000원\n",
            "튀김의 매출: 44500원\n",
            "오늘의 총 매출은 316500원입니다.\n"
          ]
        }
      ]
    },
    {
      "cell_type": "markdown",
      "source": [
        "# **실습과제**\n",
        "---\n",
        "\n",
        "원의 반지름을 입력받아 아래 공식을 참고해서 원의 넓이와 둘레를 구하고, 아래와 같이 출력해주자.\n",
        "\n",
        "\n",
        "---\n",
        "\n",
        "* 공식\n",
        "  + 원의 면적 : $A = \\pi r^2$\n",
        "  + 원의 둘레 : $C = 2\\pi r$"
      ],
      "metadata": {
        "id": "H5aAanDZrXpY"
      }
    },
    {
      "cell_type": "code",
      "source": [
        "import math\n",
        "\n",
        "r = int(input())\n",
        "\n",
        "A = math.pi * r * r\n",
        "C = math.pi * 2 * r\n",
        "\n",
        "print(f\"원의 면적: A = {A}\")\n",
        "print(f\"원의 둘레: C = {C}\")"
      ],
      "metadata": {
        "id": "6ulqlRjrraY7",
        "colab": {
          "base_uri": "https://localhost:8080/"
        },
        "outputId": "683ea98c-91af-4379-a8dd-4ad1402eafb3"
      },
      "execution_count": 5,
      "outputs": [
        {
          "output_type": "stream",
          "name": "stdout",
          "text": [
            "3\n",
            "원의 면적: A = 28.274333882308138\n",
            "원의 둘레: C = 18.84955592153876\n"
          ]
        }
      ]
    }
  ]
}