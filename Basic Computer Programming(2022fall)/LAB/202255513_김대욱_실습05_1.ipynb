{
  "nbformat": 4,
  "nbformat_minor": 0,
  "metadata": {
    "colab": {
      "provenance": [],
      "collapsed_sections": []
    },
    "kernelspec": {
      "name": "python3",
      "display_name": "Python 3"
    },
    "language_info": {
      "name": "python"
    }
  },
  "cells": [
    {
      "cell_type": "markdown",
      "source": [
        "# **해결문제**\n",
        "**리히터 규모에 따른 피해 정도 출력하기**\n",
        "\n",
        "리히터 규모는 1935년 미국 지질학자인 찰스 리히터 (C. Richter)가 지진의 규모를 비교할 수 있도록 제안한 단위이며 “리히터 스케일(Richter scale)”이라고도 한다. 다음 그림은 리히터 규모에 따른 사람의 느낌이나 사물의 피해 정도를 나타낸다. 사용자로부터 지진의 리히터 규모를 입력 받아서 그 영향을 출력하는 프로그램을 작성해 보자.\n",
        "\n",
        "![실습과제4](https://drive.google.com/uc?export=view&id=1sX-hFH5CRqB5MIt2am686Ybpho9nmNOw)"
      ],
      "metadata": {
        "id": "7fTLvW87Vto8"
      }
    },
    {
      "cell_type": "code",
      "source": [
        "# 반복\n",
        "# for i in range(2) :\n",
        "while(True) : # 무한 반복\n",
        "    \n",
        "  # 입력\n",
        "  scale = float(input('리히터 규모 입력(종료-음수) :'))\n",
        "\n",
        "  # 종료 처리\n",
        "  if scale < 0 :\n",
        "    break\n",
        "\n",
        "  # 처리\n",
        "  if scale < 3.5 :\n",
        "    msg = \"사람이 거의 느끼지 못하지만 기록된다.\"\n",
        "\n",
        "  elif scale <= 5.4 :\n",
        "    msg = \"가끔 느껴지고 미약한 피해가 발생한다.(창문 흔들리고 물건 떨어짐)\"\n",
        "\n",
        "  elif scale <= 6.0 :\n",
        "    msg = \"건물에 약간의 손상이 온다.(벽균열, 서있기 곤란)\"\n",
        "\n",
        "  elif scale <= 6.9 :\n",
        "    msg = \"사람이 사는 곳이 파괴될 수 있다.(가옥 30% 이하 파괴)\"\n",
        "\n",
        "  elif scale <= 7.9 :\n",
        "    msg = \"큰 피해를 야기한다.(가옥 전파, 교량 파괴, 산사태, 지각 균열)\"\n",
        "\n",
        "  else :\n",
        "    msg = \"거대한 지진으로 모든 마을이 파괴된다.\"\n",
        "\n",
        "  # 출력\n",
        "  print(f\"리히터 규모 {scale}은/는 {msg}\")"
      ],
      "metadata": {
        "id": "NXpKeEmkVy2X",
        "colab": {
          "base_uri": "https://localhost:8080/"
        },
        "outputId": "3022a05d-757e-4fbf-98e0-79ed36f2e1dd"
      },
      "execution_count": 16,
      "outputs": [
        {
          "name": "stdout",
          "output_type": "stream",
          "text": [
            "리히터 규모 입력(종료-음수) :3\n",
            "리히터 규모 3.0은/는 사람이 거의 느끼지 못하지만 기록된다.\n",
            "리히터 규모 입력(종료-음수) :-4\n"
          ]
        }
      ]
    },
    {
      "cell_type": "markdown",
      "source": [
        "# **컬렉션자료형(collection data type)**\n",
        "+ 여러 요소를 묶어서 처리할 수 있는 자료형 \n",
        "+ 각 요소에 접근하는 방법이 제공\n",
        "\n",
        "<img src=\"https://drive.google.com/uc?export=view&id=1qNHKZPJv546haViE6KBY3kg8gUlHJm_F\" width=\"500px\">"
      ],
      "metadata": {
        "id": "duczPxcoWK7L"
      }
    },
    {
      "cell_type": "markdown",
      "source": [
        "## **리스트(list)**\n",
        " - 리스트의 각 요소는 순서를 가지고 있음\n",
        " - 대괄호([])로 작성되며 각 요소는 쉼표(,)로 구분\n",
        " - 요소를 추가, 수정, 삭제 가능"
      ],
      "metadata": {
        "id": "oEFEp3V5Wp9J"
      }
    },
    {
      "cell_type": "code",
      "source": [
        "#리스트 : [], 순서로 구분 \n",
        "lt = [1, 2, 'A']\n",
        "\n",
        "# 항목 가져오기\n",
        "print(f\"첫 번째 : {lt[0]}\")\n",
        "\n",
        "# 리스트 순회 1\n",
        "print(\"\\n리스트 순회 1\")\n",
        "for i in range(len(lt)) :\n",
        "  print(f\"{lt[i]}\")\n",
        "\n",
        "# 리스트 순회 2\n",
        "print(\"\\n리스트 순회 2\")\n",
        "for i in lt :\n",
        "  print(i)\n",
        "\n",
        "# 값 수정\n",
        "print(\"\\n리스트 수정\")\n",
        "for i in range(len(lt)):\n",
        "  lt[i] *= 2\n",
        "\n",
        "print(lt)"
      ],
      "metadata": {
        "id": "57Hmwh42Wt57",
        "colab": {
          "base_uri": "https://localhost:8080/"
        },
        "outputId": "519a6849-05ff-4170-9cc2-3328325163dc"
      },
      "execution_count": 23,
      "outputs": [
        {
          "output_type": "stream",
          "name": "stdout",
          "text": [
            "첫 번째 : 1\n",
            "\n",
            "리스트 순회 1\n",
            "1\n",
            "2\n",
            "A\n",
            "\n",
            "리스트 순회 2\n",
            "1\n",
            "2\n",
            "A\n",
            "\n",
            "리스트 수정\n",
            "[2, 4, 'AA']\n"
          ]
        }
      ]
    },
    {
      "cell_type": "markdown",
      "source": [
        "# 튜플(tuple)\n",
        "+ 튜플의 각 요소는 순서를 가지고 있음\n",
        "+ 괄호(())로 작성되며 각 요소는 쉼표(,)로 구분\n",
        "+ 요소를 추가, 수정, 삭제 불가능\n",
        "+ 한번 결정된 요소는 변경 불가능\n",
        "+ 인덱싱과 슬라이싱은 리스트와 동일\n",
        "+ $+$와 $*$연산은 리스트와 동일\n",
        "+ 각 요소에 변수 할당 가능\n",
        " - x, y = (10, 20)"
      ],
      "metadata": {
        "id": "Oq5xds1CWxwm"
      }
    },
    {
      "cell_type": "code",
      "source": [
        "#튜플 : (), 순서로 구분\n",
        "tp = (1, 2, 'A')\n",
        "\n",
        "# 항목 가져오기\n",
        "print(f\"첫 번째 : {tp[0]}\")\n",
        "\n",
        "# 튜플 순회 1\n",
        "print(\"\\n튜플 순회 1\")\n",
        "for i in range(len(tp)) :\n",
        "  print(f\"{tp[i]}\")\n",
        "\n",
        "# 튜플 순회 2\n",
        "print(\"\\n튜플 순회 2\")\n",
        "for i in tp :\n",
        "  print(i)\n",
        "\n",
        "# 튜플 값 수정 X\n",
        "print(\"\\n튜플 수정\")\n",
        "for i in range(len(tp)):\n",
        "  tp[i] *= 2\n",
        "\n",
        "print(tp)"
      ],
      "metadata": {
        "id": "9yKoh0alW4FY",
        "colab": {
          "base_uri": "https://localhost:8080/",
          "height": 472
        },
        "outputId": "2aef24f7-2a6d-4e89-fa99-b9719a11a25b"
      },
      "execution_count": 24,
      "outputs": [
        {
          "output_type": "stream",
          "name": "stdout",
          "text": [
            "첫 번째 : 1\n",
            "\n",
            "튜플 순회 1\n",
            "1\n",
            "2\n",
            "A\n",
            "\n",
            "튜플 순회 2\n",
            "1\n",
            "2\n",
            "A\n",
            "\n",
            "튜플 수정\n"
          ]
        },
        {
          "output_type": "error",
          "ename": "TypeError",
          "evalue": "ignored",
          "traceback": [
            "\u001b[0;31m---------------------------------------------------------------------------\u001b[0m",
            "\u001b[0;31mTypeError\u001b[0m                                 Traceback (most recent call last)",
            "\u001b[0;32m<ipython-input-24-f4ba66238eeb>\u001b[0m in \u001b[0;36m<module>\u001b[0;34m\u001b[0m\n\u001b[1;32m     18\u001b[0m \u001b[0mprint\u001b[0m\u001b[0;34m(\u001b[0m\u001b[0;34m\"\\n튜플 수정\"\u001b[0m\u001b[0;34m)\u001b[0m\u001b[0;34m\u001b[0m\u001b[0;34m\u001b[0m\u001b[0m\n\u001b[1;32m     19\u001b[0m \u001b[0;32mfor\u001b[0m \u001b[0mi\u001b[0m \u001b[0;32min\u001b[0m \u001b[0mrange\u001b[0m\u001b[0;34m(\u001b[0m\u001b[0mlen\u001b[0m\u001b[0;34m(\u001b[0m\u001b[0mtp\u001b[0m\u001b[0;34m)\u001b[0m\u001b[0;34m)\u001b[0m\u001b[0;34m:\u001b[0m\u001b[0;34m\u001b[0m\u001b[0;34m\u001b[0m\u001b[0m\n\u001b[0;32m---> 20\u001b[0;31m   \u001b[0mtp\u001b[0m\u001b[0;34m[\u001b[0m\u001b[0mi\u001b[0m\u001b[0;34m]\u001b[0m \u001b[0;34m*=\u001b[0m \u001b[0;36m2\u001b[0m\u001b[0;34m\u001b[0m\u001b[0;34m\u001b[0m\u001b[0m\n\u001b[0m\u001b[1;32m     21\u001b[0m \u001b[0;34m\u001b[0m\u001b[0m\n\u001b[1;32m     22\u001b[0m \u001b[0mprint\u001b[0m\u001b[0;34m(\u001b[0m\u001b[0mtp\u001b[0m\u001b[0;34m)\u001b[0m\u001b[0;34m\u001b[0m\u001b[0;34m\u001b[0m\u001b[0m\n",
            "\u001b[0;31mTypeError\u001b[0m: 'tuple' object does not support item assignment"
          ]
        }
      ]
    },
    {
      "cell_type": "markdown",
      "source": [
        "## 딕션너리(dictionary)\n",
        "- 키(key)와 값(value) 쌍을 요소로 가짐\n",
        "- 중괄호({})로 작성되며 각 요소는 쉼표(,)로 구분\n",
        "- 순서 없음 \n",
        "- 키는 변경할 수 없으며 값은 변경가능 \n",
        "+ **딕션너리 접근**\n",
        " - 특정 요소 값 : 딕션너리명[키]\n",
        " - 요소 키 컬렉션  : 딕션너리명.keys()\n",
        " - 요소 값 컬렉션 : 딕션너리명.values()\n",
        " - 요소 키, 값 컬렉션 : 딕션너리명.items()\n",
        " - 키와 요소 컬렉션은 list() 생성자로 리스트로 변환가능 "
      ],
      "metadata": {
        "id": "sNuEtdFVXBqd"
      }
    },
    {
      "cell_type": "code",
      "source": [
        "#딕션너리 : {}, 키로 구분\n",
        "dt = {'k1':1, 'k3':'A', 'k2':2}\n",
        "\n"
      ],
      "metadata": {
        "id": "VTHvlyX5XTk8"
      },
      "execution_count": null,
      "outputs": []
    },
    {
      "cell_type": "markdown",
      "source": [
        "# 해결문제\n",
        "\n",
        "덧셈, 뺄셈, 곱셈, 나눗셈이 가능한 사칙연산 계산기를 만들어 보자. \n",
        "\n",
        "네 가지 연산자 중 하나와 두 실수를 입력하면 계산 결과를 확인할 수 있다. \n",
        "\n",
        "연산자를 입력하는 대신 ‘exit’을 입력하면 프로그램이 종료된다. \n",
        "\n",
        "주의할 점은 나눗셈 연산에서 0으로 나누는 연산은 허용하지 말아야 한다. "
      ],
      "metadata": {
        "id": "XFIdo0tKSBZp"
      }
    },
    {
      "cell_type": "code",
      "source": [
        " "
      ],
      "metadata": {
        "colab": {
          "base_uri": "https://localhost:8080/"
        },
        "id": "wOyNfDmVSD8q",
        "outputId": "75eced28-30f3-4731-86b1-7e1b4364b77f"
      },
      "execution_count": null,
      "outputs": [
        {
          "name": "stdout",
          "output_type": "stream",
          "text": [
            "연산자 입력(+,-,*,/, 종료:exit) =>==\n",
            "연산자 입력(+,-,*,/, 종료:exit) =>exit\n"
          ]
        }
      ]
    },
    {
      "cell_type": "markdown",
      "metadata": {
        "id": "AUyUBgMIygsh"
      },
      "source": [
        "# 해결문제\n",
        "각 나라와 수도를 짝지어 딕셔너리를 생성할 수 있다. \n",
        "\n",
        "7개 정도의 나라를 조사해서 country_ capital 딕셔너리를 만들고 순차적으로 나라에 대한 수도를 물어보는 퀴즈 게임을 만들어 보자.\n",
        "\n",
        "```python\n",
        "country = ['아이슬란드', '터키', '캐나다', '뉴질랜드', '벨기에', '우간다', '파라과이']\n",
        "capital = ['레이캬비크', '앙카라', '오타와', '웰링턴', '브뤼셀', '캄팔라', '아순시온']\n",
        "```\n",
        "\n",
        "![해결문제5](https://drive.google.com/uc?export=view&id=1S_kdJEoRI_yPPIjQCvMbvedN6vxNs_BO)"
      ]
    },
    {
      "cell_type": "code",
      "metadata": {
        "id": "0ADO8OjnuLQe"
      },
      "source": [
        "#리스트 \n",
        "country = ['아이슬란드', '터키', '캐나다', '뉴질랜드', '벨기에', '우간다', '파라과이']\n",
        "capital = ['레이캬비크', '앙카라', '오타와', '웰링턴', '브뤼셀', '캄팔라', '아순시온']"
      ],
      "execution_count": null,
      "outputs": []
    }
  ]
}